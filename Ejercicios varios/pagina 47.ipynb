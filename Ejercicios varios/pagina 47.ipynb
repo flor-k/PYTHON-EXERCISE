{
 "cells": [
  {
   "cell_type": "code",
   "execution_count": null,
   "metadata": {},
   "outputs": [],
   "source": [
    "#Declarar una clase Cuenta y dos subclases CajaAhorra y PlazoFijo.\n",
    "#Definir los atributos y métodos comunes entre una caja de ahorro y un plazo fijo y agruparlos en la clase Cuenta.\n",
    "#Una caja de ahorro y un plazo fijo tienen un nombre de titular y un monto.\n",
    "#Un plazo fijo añade un plazo de imposición en días y una tasa de interés.\n",
    "#Hacer que la caja de ahorro no genera intereses.\n",
    "#En el bloque principal del programa definir un objeto de la clase CajaAhorro y otro de la clase PlazoFijo.\n",
    "\n",
    " "
   ]
  }
 ],
 "metadata": {
  "kernelspec": {
   "display_name": "Python 3",
   "language": "python",
   "name": "python3"
  },
  "language_info": {
   "codemirror_mode": {
    "name": "ipython",
    "version": 3
   },
   "file_extension": ".py",
   "mimetype": "text/x-python",
   "name": "python",
   "nbconvert_exporter": "python",
   "pygments_lexer": "ipython3",
   "version": "3.7.4"
  }
 },
 "nbformat": 4,
 "nbformat_minor": 2
}
