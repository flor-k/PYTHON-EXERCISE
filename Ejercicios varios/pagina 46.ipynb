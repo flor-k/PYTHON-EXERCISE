{
 "cells": [
  {
   "cell_type": "code",
   "execution_count": 40,
   "metadata": {},
   "outputs": [
    {
     "name": "stdout",
     "output_type": "stream",
     "text": [
      "ingrese nombre: flor\n",
      "ingrese antiguedad en años: 5\n",
      "desea ingresar otro socio? s/ns\n",
      "ingrese nombre: pepe\n",
      "ingrese antiguedad en años: 9\n",
      "desea ingresar otro socio? s/ns\n",
      "ingrese nombre: cami\n",
      "ingrese antiguedad en años: 7\n",
      "desea ingresar otro socio? s/nn\n",
      "[['flor', 5], ['pepe', 9], ['cami', 7]]\n",
      "nombre:  flor\n",
      "antiguedad:  5\n",
      "nombre:  pepe\n",
      "antiguedad:  9\n",
      "nombre:  cami\n",
      "antiguedad:  7\n",
      "la persona de mayor antiguedad es:  pepe\n"
     ]
    }
   ],
   "source": [
    "#Plantear una clase Club y otra clase Socio.\n",
    "#La clase Socio debe tener los siguientes atributos: nombre y la antigüedad en el club (en años).\n",
    "#En el método __init__ de la clase Socio pedir la carga por teclado del nombre y su antigüedad.\n",
    "#La clase Club debe tener como atributos 3 objetos de la clase Socio.\n",
    "#Definir una responsabilidad para imprimir el nombre del socio con mayor antigüedad en el club.\n",
    "\n",
    "   \n",
    "class socio:\n",
    "    def __init__(self):\n",
    "        self.lista=[]\n",
    "        self.carga()\n",
    "    \n",
    "    def carga(self):\n",
    "        cont=\"s\"\n",
    "        while cont==\"s\":\n",
    "            nombre=input(\"ingrese nombre: \")\n",
    "            antiguedad=int(input(\"ingrese antiguedad en años: \"))\n",
    "            self.lista.append([nombre,antiguedad])\n",
    "            cont=str(input(\"desea ingresar otro socio? s/n\"))\n",
    "        print(self.lista)\n",
    "        \n",
    "class club:\n",
    "\n",
    "    def imprimir(self):\n",
    "        for x in range(len(self.lista)):\n",
    "            print(\"nombre: \",self.lista[x][0])\n",
    "            print(\"antiguedad: \",self.lista[x][1])\n",
    "            \n",
    "    def antiguedad(self):\n",
    "        mayor=self.lista[0][1]\n",
    "        for x in range(len(self.lista)):\n",
    "            if mayor<self.lista[x][1]:\n",
    "                mayor=self.lista[x][1]\n",
    "                print(\"la persona de mayor antiguedad es: \",self.lista[x][0])\n",
    "                \n",
    "#bloque\n",
    "\n",
    "socio=socio()\n",
    "club.imprimir(socio)\n",
    "club.antiguedad(socio)"
   ]
  },
  {
   "cell_type": "code",
   "execution_count": null,
   "metadata": {},
   "outputs": [],
   "source": []
  },
  {
   "cell_type": "code",
   "execution_count": null,
   "metadata": {},
   "outputs": [],
   "source": []
  }
 ],
 "metadata": {
  "kernelspec": {
   "display_name": "Python 3",
   "language": "python",
   "name": "python3"
  },
  "language_info": {
   "codemirror_mode": {
    "name": "ipython",
    "version": 3
   },
   "file_extension": ".py",
   "mimetype": "text/x-python",
   "name": "python",
   "nbconvert_exporter": "python",
   "pygments_lexer": "ipython3",
   "version": "3.7.4"
  }
 },
 "nbformat": 4,
 "nbformat_minor": 2
}
